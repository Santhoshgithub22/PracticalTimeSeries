{
 "cells": [
  {
   "cell_type": "markdown",
   "metadata": {},
   "source": [
    "## Yule-Walker Equation"
   ]
  },
  {
   "cell_type": "markdown",
   "metadata": {},
   "source": [
    "The goal here is how to find autocorrelation coefficients for AR models using Yule-Walker Equations. Before moving into the Yule-Walker equation, let's intorduce a concept called the **difference equation**   "
   ]
  },
  {
   "cell_type": "markdown",
   "metadata": {},
   "source": [
    "### The Difference Equation   "
   ]
  },
  {
   "cell_type": "markdown",
   "metadata": {},
   "source": [
    "Consider the series (**a difference equation**)\n",
    "$$a_n = 5a_{n-1} -6a_{n-2}       \\ \\  ---- (E1)$$\n",
    "\n",
    "Can we solve for $a_n$, i.e. can we find an expression for $a_n$?   \n",
    "\n",
    "The idea is to look for a solution of the form $\\lambda^n$ for some constant $\\lambda$   \n",
    "- Substitute $\\lambda$ into E1   \n",
    "\n",
    "$$\\lambda^n = 5\\lambda^{n-1} -6\\lambda^{n-2}       \\ \\  ---- (E2)$$\n",
    "\n",
    "- divide both sides by $\\lambda^{n-2}$\n",
    "$$\\lambda^2 = 5\\lambda -6       \\ \\  ---- (E3)$$\n",
    "- solving E3 for $\\lambda$   \n",
    "$$\\lambda = 2 \\ \\ or \\ \\ \\lambda = 3$$     \n",
    "\n",
    "- Hence we can write $a_n$ as a linear combination of the two solutions   \n",
    "\n",
    "$$a_n = c_12^n + c_23^n$$   \n",
    "\n",
    "- Use some initial conditions to find $c_1$ and $c_2$. e.g. let $a_0 = 3$ and $a_1$ = 8, then  \n",
    "\n",
    "$$3 = c_1 + c_2$$\n",
    "$$8 = 2c_1 + 3c_2$$ \n",
    "\n",
    "- Solve to get \n",
    "$$a_n = 2^n + 2*3^n$$ \n",
    "\n",
    "This method can be used to show that the $n^{th}$ term of the [fibonacci](https://en.wikipedia.org/wiki/Fibonacci_number) sequence \n",
    "\n",
    "$$f_n = f_{n-1} + f_{n-2} \\ \\ f_0 =1, \\ \\ f_1 = 1 $$ \n",
    "\n",
    "can be written as \n",
    "\n",
    "$$f_n = -\\frac{1}{\\sqrt{5}}\\left(\\frac{1-\\sqrt{5}}{2}\\right)^{n+1} + \\frac{1}{\\sqrt{5}}\\left(\\frac{1+\\sqrt{5}}{2}\\right)^{n+1}$$   \n",
    "\n",
    "Pretty cool!"
   ]
  },
  {
   "cell_type": "markdown",
   "metadata": {},
   "source": [
    "### Back to Yule-Walker Equations"
   ]
  },
  {
   "cell_type": "markdown",
   "metadata": {},
   "source": [
    "The [Yule-Walker Equations](https://en.wikipedia.org/wiki/Autoregressive_model#Yule%E2%80%93Walker_equations) essientially provide a way to estimate the autocorrelation function of auto-regressive time series processes. \n",
    "\n",
    "$$X_t = \\phi_1X_{t-1} + \\phi_2X_{t-2} + ...+ \\phi_{p}X_{t-p} + Z_t$$   \n",
    "\n",
    "The basic steps are as follows:\n",
    "\n",
    "- 1. Assume stationarity and multiply both sides by $X_{t-k}$  \n",
    "- 2. Take the Expectation value of both sides\n",
    "- 3. Use the definition of covariance, and divide by $\\gamma(0) = \\sigma_X^2$\n",
    "- 4. Get the difference Equation for $\\rho(k)$, the ACF of the process (This i called the **Yule-Walker equation**)\n",
    "- 5. Solve the difference equation using the method described above  \n",
    "\n",
    "#### Example AR(2)\n",
    "\n",
    "$$X_t = \\frac{1}{3}X_{t-1} + \\frac{1}{2}X_{t-2} + Z_t$$ \n",
    "\n",
    "Where $\\phi_1 = 1/3$ and $\\phi_2 = 1/2$. We can quickly check that the process is stationary using the conditions \n",
    "- $-1 < \\phi_2 < 1$\n",
    "- $\\phi_2 < 1 + \\phi_1$\n",
    "- $\\phi_2 < 1 - \\phi_1$\n",
    "\n",
    "Or we can also check that the roots of the polynomial  \n",
    "$$\\phi(B) = 1 - \\frac{1}{3}B - \\frac{1}{2}B^2 $$ are both greater than 1  \n",
    "\n",
    "**The above AR has 0 mean since** \n",
    "$$E[X_t] = \\frac{1}{3}E[X_{t-1}] + \\frac{1}{2}E[X_{t-2}] + E[Z_t]$$\n",
    "$$E[X_t] = \\frac{1}{3}E[X_{t}] + \\frac{1}{2}E[X_{t}] + 0$$\n",
    "only if $E[X_t] = 0$  \n",
    "\n",
    "- **1. Multiply by $X_{t-k}$**  \n",
    "$$X_tX_{t-k} = \\frac{1}{3}X_{t-1}X_{t-k} + \\frac{1}{2}X_{t-2}X_{t-k} + Z_tX_{t-k}$$  \n",
    "\n",
    "- **2. Take the Expectation Value**  \n",
    "$$E[X_tX_{t-k}] = \\frac{1}{3}E[X_{t-1}X_{t-k}] + \\frac{1}{2}E[X_{t-2}X_{t-k}] + E[Z_tX_{t-k}]$$\n",
    "\n",
    "> Note the since $E[X_t] = \\bar{X_t} = 0$, we have $Cov(X_t, X_{t-k}) = E[(X_t-\\bar{X_t})(X_{t-k}-\\bar{X_{t}})] = E[X_tX_{t-k}] = \\gamma(-k)$    \n",
    "Asuming that $E[Z_tX_{t-k}] = 0$ \n",
    "\n",
    ">we get  \n",
    "$$\\gamma(-k) = \\frac{1}{3}\\gamma(-k+1) + \\frac{1}{2}\\gamma(-k+2)$$\n",
    "\n",
    ">Since $\\gamma(-k) = \\gamma(k)$ we have \n",
    "$$\\gamma(k) = \\frac{1}{3}\\gamma(k-1) + \\frac{1}{2}\\gamma(k-2)$$  \n",
    "\n",
    "- **3. Divide by $\\sigma^2_X$ to get the Yule-Walker Equations** \n",
    "\n",
    "$$\\rho_k = \\frac{1}{3}\\rho_{k-1} + \\frac{1}{2}\\rho{k-2}$$   \n",
    "\n",
    "- **4. Solving for the autocorrelation function** \n",
    "\n",
    ">Looking for solutions $\\rho_k = \\lambda^k$ gives the characteristic equation   \n",
    "$$\\lambda^2 - \\frac{1}{3}\\lambda -\\frac{1}{2} = 0 $$   \n",
    "which has roots $\\lambda_1 = \\frac{2+\\sqrt{76}}{12}$ and $\\lambda_2 = \\frac{2-\\sqrt{76}}{12}$  so that \n",
    "$$\\rho_k = c_1\\left( \\frac{2+\\sqrt{76}}{12} \\right)^k + c_2\\left( \\frac{2-\\sqrt{76}}{12} \\right)^k$$\n",
    "\n",
    "> use constraints \n",
    "- $\\rho_0 = 1 = c_1 + c_2$    \n",
    "- $\\rho_1 = \\frac{1}{3}\\rho(0) + \\frac{1}{2}\\gamma(-1) => \\rho_1 = \\frac{2}{3} = c_1\\left( \\frac{2+\\sqrt{76}}{12} \\right) + c_2\\left( \\frac{2-\\sqrt{76}}{12} \\right)$   \n",
    "\n",
    ">solve for $c_1$ and $c_2$  \n",
    "$c_1 = \\frac{4+\\sqrt{6}}{8}$ and $c_2 = \\frac{4-\\sqrt{6}}{8}$   \n",
    "\n",
    ">Finally\n",
    "\n",
    ">$\\rho_k = \\frac{4+\\sqrt{6}}{8}\\left( \\frac{2+\\sqrt{76}}{12} \\right)^k + \\frac{4-\\sqrt{6}}{8}\\left( \\frac{2-\\sqrt{76}}{12} \\right)^k$  for $k \\geq 0$    \n",
    "$\\rho_{-k} = \\rho_k$"
   ]
  }
 ],
 "metadata": {
  "kernelspec": {
   "display_name": "R",
   "language": "R",
   "name": "ir"
  },
  "language_info": {
   "codemirror_mode": "r",
   "file_extension": ".r",
   "mimetype": "text/x-r-source",
   "name": "R",
   "pygments_lexer": "r",
   "version": "3.4.4"
  }
 },
 "nbformat": 4,
 "nbformat_minor": 2
}
